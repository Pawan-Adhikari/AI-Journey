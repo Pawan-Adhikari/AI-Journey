{
 "cells": [
  {
   "cell_type": "markdown",
   "id": "cbe61bbb-6f33-45ed-8cd2-70be64908085",
   "metadata": {},
   "source": [
    "What is a Virtual Environment?\n",
    "A virtual environment in Python is an isolated environment on your computer, where you can run and test your Python projects.\n",
    "\n",
    "It allows you to manage project-specific dependencies without interfering with other projects or the original Python installation.\n",
    "\n",
    "Think of a virtual environment as a separate container for each Python project. Each container:\n",
    "\n",
    "Has its own Python interpreter\n",
    "Has its own set of installed packages\n",
    "Is isolated from other virtual environments\n",
    "Can have different versions of the same package\n",
    "Using virtual environments is important because:\n",
    "\n",
    "It prevents package version conflicts between projects\n",
    "Makes projects more portable and reproducible\n",
    "Keeps your system Python installation clean\n",
    "Allows testing with different Python versions"
   ]
  },
  {
   "cell_type": "code",
   "execution_count": 1,
   "id": "b52334d0-05f4-447c-8b3d-a6bffa59fb7f",
   "metadata": {},
   "outputs": [
    {
     "ename": "SyntaxError",
     "evalue": "invalid syntax (2806821776.py, line 1)",
     "output_type": "error",
     "traceback": [
      "  \u001b[36mCell\u001b[39m\u001b[36m \u001b[39m\u001b[32mIn[1]\u001b[39m\u001b[32m, line 1\u001b[39m\n\u001b[31m    \u001b[39m\u001b[31m$ python -m venv myfirstproject\u001b[39m\n    ^\n\u001b[31mSyntaxError\u001b[39m\u001b[31m:\u001b[39m invalid syntax\n"
     ]
    }
   ],
   "source": [
    "$ python3 -m venv myfirstproject\n"
   ]
  },
  {
   "cell_type": "markdown",
   "id": "792f4411-4260-45ef-a910-9794f57b494d",
   "metadata": {},
   "source": [
    "This creates a new virtual environment with following result:\n",
    "myfirstproject\n",
    "  Include\n",
    "  Lib\n",
    "  Scripts\n",
    "  .gitignore\n",
    "  pyvenv.cfg"
   ]
  },
  {
   "cell_type": "code",
   "execution_count": 2,
   "id": "042a553a-dc01-4786-9643-12e159d7a231",
   "metadata": {},
   "outputs": [
    {
     "ename": "SyntaxError",
     "evalue": "invalid syntax (2961970563.py, line 1)",
     "output_type": "error",
     "traceback": [
      "  \u001b[36mCell\u001b[39m\u001b[36m \u001b[39m\u001b[32mIn[2]\u001b[39m\u001b[32m, line 1\u001b[39m\n\u001b[31m    \u001b[39m\u001b[31m$ source myfirstproject/bin/activate\u001b[39m\n    ^\n\u001b[31mSyntaxError\u001b[39m\u001b[31m:\u001b[39m invalid syntax\n"
     ]
    }
   ],
   "source": [
    "$ source myfirstproject/bin/activate\n"
   ]
  },
  {
   "cell_type": "markdown",
   "id": "1988d738-4a24-4747-9fe7-0df537a5904b",
   "metadata": {},
   "source": [
    "This activates the virtual environment and the console will reassure you that you are now working in the active environment."
   ]
  },
  {
   "cell_type": "markdown",
   "id": "f959cab1-aa4f-4fec-9c5f-ddb9f8b85891",
   "metadata": {},
   "source": [
    "-We can create new files and start a new project there.\n",
    "\n",
    "-We can install modules and the modules installed are local.\n",
    "\n",
    "-Deleting the venv directory deletes the venv too. \n",
    "\n",
    "-\"deactivate\" on terminal will deactivate an active venv\n"
   ]
  }
 ],
 "metadata": {
  "kernelspec": {
   "display_name": "Python 3 (ipykernel)",
   "language": "python",
   "name": "python3"
  },
  "language_info": {
   "codemirror_mode": {
    "name": "ipython",
    "version": 3
   },
   "file_extension": ".py",
   "mimetype": "text/x-python",
   "name": "python",
   "nbconvert_exporter": "python",
   "pygments_lexer": "ipython3",
   "version": "3.13.3"
  }
 },
 "nbformat": 4,
 "nbformat_minor": 5
}
