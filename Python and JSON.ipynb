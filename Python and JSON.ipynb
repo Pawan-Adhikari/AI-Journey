{
 "cells": [
  {
   "cell_type": "markdown",
   "id": "bf64a8fb-0655-440d-958f-ef544d294033",
   "metadata": {},
   "source": [
    "JSON library\n"
   ]
  },
  {
   "cell_type": "code",
   "execution_count": 1,
   "id": "9da1ab5b-9ef6-496a-9d6f-de8d82506795",
   "metadata": {},
   "outputs": [
    {
     "name": "stdout",
     "output_type": "stream",
     "text": [
      "30\n"
     ]
    }
   ],
   "source": [
    "import json\n",
    "\n",
    "# some JSON:\n",
    "x =  '{ \"name\":\"John\", \"age\":30, \"city\":\"New York\"}'\n",
    "\n",
    "# parse x:\n",
    "y = json.loads(x)\n",
    "\n",
    "# the result is a Python dictionary:\n",
    "print(y[\"age\"])"
   ]
  },
  {
   "cell_type": "markdown",
   "id": "4b1763c8-f727-40a0-941d-fd9bf4ad2cc5",
   "metadata": {},
   "source": [
    "load(): Deserializes JSON content from a file-like object into a Python object. Think of it as loading data from a file.\n",
    "\n",
    "loads(): Deserializes a JSON-formatted string into a Python object. The 's' stands for string, indicating that the source is a string rather than a file.\n",
    "\n",
    "dump(): Serializes a Python object and writes it as JSON to a file-like object. It's like dumping data into a file.\n",
    "\n",
    "dumps(): Serializes a Python object into a JSON-formatted string. Again, the 's' denotes that the output is a string.\n"
   ]
  },
  {
   "cell_type": "code",
   "execution_count": 2,
   "id": "4a2ca299-7877-44b7-8a73-c73274d14d30",
   "metadata": {},
   "outputs": [
    {
     "name": "stdout",
     "output_type": "stream",
     "text": [
      "{\"name\": \"John\", \"age\": 30, \"married\": true, \"divorced\": false, \"children\": [\"Ann\", \"Billy\"], \"pets\": null, \"cars\": [{\"model\": \"BMW 230\", \"mpg\": 27.5}, {\"model\": \"Ford Edge\", \"mpg\": 24.1}]}\n"
     ]
    }
   ],
   "source": [
    "import json\n",
    "\n",
    "x = {\n",
    "  \"name\": \"John\",\n",
    "  \"age\": 30,\n",
    "  \"married\": True,\n",
    "  \"divorced\": False,\n",
    "  \"children\": (\"Ann\",\"Billy\"),\n",
    "  \"pets\": None,\n",
    "  \"cars\": [\n",
    "    {\"model\": \"BMW 230\", \"mpg\": 27.5},\n",
    "    {\"model\": \"Ford Edge\", \"mpg\": 24.1}\n",
    "  ]\n",
    "}\n",
    "\n",
    "print(json.dumps(x))"
   ]
  },
  {
   "cell_type": "code",
   "execution_count": 3,
   "id": "ccc7da2e-59d6-4626-925d-03500594ac40",
   "metadata": {},
   "outputs": [
    {
     "name": "stdout",
     "output_type": "stream",
     "text": [
      "{\n",
      "    \"name\": \"John\",\n",
      "    \"age\": 30,\n",
      "    \"married\": true,\n",
      "    \"divorced\": false,\n",
      "    \"children\": [\n",
      "        \"Ann\",\n",
      "        \"Billy\"\n",
      "    ],\n",
      "    \"pets\": null,\n",
      "    \"cars\": [\n",
      "        {\n",
      "            \"model\": \"BMW 230\",\n",
      "            \"mpg\": 27.5\n",
      "        },\n",
      "        {\n",
      "            \"model\": \"Ford Edge\",\n",
      "            \"mpg\": 24.1\n",
      "        }\n",
      "    ]\n",
      "}\n"
     ]
    }
   ],
   "source": [
    "import json\n",
    "\n",
    "x = {\n",
    "  \"name\": \"John\",\n",
    "  \"age\": 30,\n",
    "  \"married\": True,\n",
    "  \"divorced\": False,\n",
    "  \"children\": (\"Ann\",\"Billy\"),\n",
    "  \"pets\": None,\n",
    "  \"cars\": [\n",
    "    {\"model\": \"BMW 230\", \"mpg\": 27.5},\n",
    "    {\"model\": \"Ford Edge\", \"mpg\": 24.1}\n",
    "  ]\n",
    "}\n",
    "a\n",
    "print(json.dumps(x, indent = 4))"
   ]
  },
  {
   "cell_type": "markdown",
   "id": "eee2050f-4b2e-436d-a367-b68fa75af8fd",
   "metadata": {},
   "source": [
    "THere are 4 spaces before \"name\" ,\"age\" which is the indentation."
   ]
  },
  {
   "cell_type": "code",
   "execution_count": 6,
   "id": "0d909f17-4bbf-4271-87b3-d456393bad0b",
   "metadata": {},
   "outputs": [
    {
     "name": "stdout",
     "output_type": "stream",
     "text": [
      "{\n",
      "    \"name\"=\"John\".\n",
      "    \"age\"=30.\n",
      "    \"married\"=true.\n",
      "    \"divorced\"=false.\n",
      "    \"children\"=[\n",
      "        \"Ann\".\n",
      "        \"Billy\"\n",
      "    ].\n",
      "    \"pets\"=null.\n",
      "    \"cars\"=[\n",
      "        {\n",
      "            \"model\"=\"BMW 230\".\n",
      "            \"mpg\"=27.5\n",
      "        }.\n",
      "        {\n",
      "            \"model\"=\"Ford Edge\".\n",
      "            \"mpg\"=24.1\n",
      "        }\n",
      "    ]\n",
      "}\n"
     ]
    }
   ],
   "source": [
    "import json\n",
    "\n",
    "x = {\n",
    "  \"name\": \"John\",\n",
    "  \"age\": 30,\n",
    "  \"married\": True,\n",
    "  \"divorced\": False,\n",
    "  \"children\": (\"Ann\",\"Billy\"),\n",
    "  \"pets\": None,\n",
    "  \"cars\": [\n",
    "    {\"model\": \"BMW 230\", \"mpg\": 27.5},\n",
    "    {\"model\": \"Ford Edge\", \"mpg\": 24.1}\n",
    "  ]\n",
    "}\n",
    "\n",
    "print(json.dumps(x, indent = 4, separators=(\".\",\"=\")))"
   ]
  },
  {
   "cell_type": "markdown",
   "id": "80083c44-3085-46ca-b670-3378b48e3b1d",
   "metadata": {},
   "source": [
    "Here, the \":\" in normal format was replaced by \"=\" and \",\" was replaced by \".\".\n",
    "\n",
    "SO the arguments passed to separators must be (element separatorl, key value separator)\n",
    "\n",
    "💡 Practical Use?\n",
    "Usually, JSON uses standard : and ,, but this trick is useful if:\n",
    "\n",
    "You want a custom output for human-readable logs.\n",
    "You're exporting to a non-standard parser or a legacy system."
   ]
  },
  {
   "cell_type": "code",
   "execution_count": null,
   "id": "36c50fb1-7d45-436c-a087-d8285e184a4a",
   "metadata": {},
   "outputs": [],
   "source": []
  }
 ],
 "metadata": {
  "kernelspec": {
   "display_name": "Python 3 (ipykernel)",
   "language": "python",
   "name": "python3"
  },
  "language_info": {
   "codemirror_mode": {
    "name": "ipython",
    "version": 3
   },
   "file_extension": ".py",
   "mimetype": "text/x-python",
   "name": "python",
   "nbconvert_exporter": "python",
   "pygments_lexer": "ipython3",
   "version": "3.13.3"
  }
 },
 "nbformat": 4,
 "nbformat_minor": 5
}
